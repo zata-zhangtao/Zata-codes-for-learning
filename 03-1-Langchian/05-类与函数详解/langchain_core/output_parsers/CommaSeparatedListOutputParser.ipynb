{
 "cells": [
  {
   "cell_type": "code",
   "execution_count": 1,
   "metadata": {},
   "outputs": [
    {
     "name": "stdout",
     "output_type": "stream",
     "text": [
      "['Python', 'JavaScript', 'Java']\n"
     ]
    }
   ],
   "source": [
    "from langchain_core.prompts import PromptTemplate\n",
    "from langchain_core.output_parsers import CommaSeparatedListOutputParser\n",
    "from langchain_openai import ChatOpenAI\n",
    "\n",
    "# region chatmdoe\n",
    "import os\n",
    "from dotenv import load_dotenv\n",
    "load_dotenv()\n",
    "model = os.getenv(\"model\")\n",
    "api_key = os.getenv(\"api_key\")\n",
    "base_url = os.getenv(\"base_url\")\n",
    "llm = ChatOpenAI(model=model, api_key=api_key,base_url=base_url,streaming=True)\n",
    "# endregion\n",
    "\n",
    "parser = CommaSeparatedListOutputParser()\n",
    "prompt = PromptTemplate(\n",
    "    template=\"列出三种编程语言，用逗号分隔。\\n{format_instructions}\",\n",
    "    partial_variables={\"format_instructions\": parser.get_format_instructions()}\n",
    ")\n",
    "\n",
    "chain = prompt | llm | parser\n",
    "response = chain.invoke({})\n",
    "print(response)\n"
   ]
  },
  {
   "cell_type": "code",
   "execution_count": 2,
   "metadata": {},
   "outputs": [
    {
     "data": {
      "text/plain": [
       "list"
      ]
     },
     "execution_count": 2,
     "metadata": {},
     "output_type": "execute_result"
    }
   ],
   "source": [
    "type(response)"
   ]
  }
 ],
 "metadata": {
  "kernelspec": {
   "display_name": "Upick",
   "language": "python",
   "name": "python3"
  },
  "language_info": {
   "codemirror_mode": {
    "name": "ipython",
    "version": 3
   },
   "file_extension": ".py",
   "mimetype": "text/x-python",
   "name": "python",
   "nbconvert_exporter": "python",
   "pygments_lexer": "ipython3",
   "version": "3.10.16"
  }
 },
 "nbformat": 4,
 "nbformat_minor": 2
}
