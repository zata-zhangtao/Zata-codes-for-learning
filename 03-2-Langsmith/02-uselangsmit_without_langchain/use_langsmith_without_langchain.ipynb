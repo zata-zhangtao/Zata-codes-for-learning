{
 "cells": [
  {
   "cell_type": "markdown",
   "execution_count": null,
   "metadata": {},
   "outputs": [],
   "source": "# LangSmith Tutorial: Using LangSmith without LangChain\n\nThis tutorial demonstrates how to use LangSmith for tracing and monitoring your applications **without** using LangChain. LangSmith is a powerful observability platform that can trace any Python function or application.\n\n## What You'll Learn\n\n- How to set up LangSmith tracing in standalone Python applications\n- Using the `@traceable` decorator to monitor function calls\n- Best practices for tracing custom functions\n- How to organize traces with custom names and projects\n\n## Prerequisites\n\n- Python 3.8+\n- LangSmith account and API key\n- `langsmith` package installed (`pip install langsmith`)\n\n## Environment Setup\n\nFirst, let's set up the necessary environment variables for LangSmith:"
  },
  {
   "cell_type": "code",
   "execution_count": null,
   "metadata": {},
   "outputs": [],
   "source": "import os\n\n# Set up LangSmith environment variables\n# Make sure to set your actual API key in your environment\napi_key = os.getenv(\"LANGCHAIN_API_KEY\")\nif not api_key:\n    print(\"⚠️  Warning: LANGCHAIN_API_KEY not found in environment variables\")\n    print(\"   Please set your LangSmith API key:\")\n    print(\"   export LANGCHAIN_API_KEY='your_api_key_here'\")\nelse:\n    print(\"✅ LangSmith API key found\")\n\n# Enable tracing\nos.environ[\"LANGCHAIN_TRACING_V2\"] = \"true\"\n# Set a custom project name for better organization\nos.environ[\"LANGCHAIN_PROJECT\"] = \"LangSmith-Without-LangChain-Tutorial\"\n\nprint(\"🔍 LangSmith tracing enabled\")\nprint(f\"📊 Project: {os.environ.get('LANGCHAIN_PROJECT')}\")"
  },
  {
   "cell_type": "markdown",
   "source": "## Best Practices Summary\n\n1. **Use descriptive names**: Give your traced functions clear, descriptive names using the `name` parameter\n2. **Add relevant metadata**: Include context that helps with debugging and analysis\n3. **Use tags for organization**: Tag functions by category, team, or feature for better filtering\n4. **Handle errors gracefully**: Let LangSmith capture errors while maintaining proper error handling\n5. **Organize by projects**: Use different project names for different applications or environments\n6. **Don't over-trace**: Focus on key functions and decision points rather than every small utility function\n\n## What's Next?\n\n- Visit the LangSmith dashboard to see your traces\n- Set up alerts for errors or performance issues\n- Use the LangSmith SDK for more advanced features\n- Integrate with CI/CD pipelines for automated monitoring\n\n## Resources\n\n- [LangSmith Documentation](https://docs.smith.langchain.com/)\n- [LangSmith Python SDK](https://github.com/langchain-ai/langsmith-sdk)\n- [LangSmith API Reference](https://api.smith.langchain.com/docs)\n\n---\n\n**🎉 Congratulations!** You've learned how to use LangSmith for tracing Python applications without LangChain. Your traces should now be visible in the LangSmith dashboard under the \"LangSmith-Without-LangChain-Tutorial\" project.",
   "metadata": {}
  },
  {
   "cell_type": "code",
   "source": "import json\nfrom datetime import datetime\n\n# Mock API client for demonstration\nclass MockAPIClient:\n    def __init__(self):\n        self.base_url = \"https://api.example.com\"\n    \n    def get_user_data(self, user_id: str) -> dict:\n        # Simulate API call\n        time.sleep(0.1)\n        return {\n            \"id\": user_id,\n            \"name\": f\"User {user_id}\",\n            \"email\": f\"user{user_id}@example.com\",\n            \"created_at\": datetime.now().isoformat()\n        }\n\n@traceable(name=\"API Request Handler\")\ndef fetch_user_data(user_id: str) -> dict:\n    \"\"\"Fetch user data from API with tracing.\"\"\"\n    client = MockAPIClient()\n    \n    # Add metadata about the request\n    from langsmith import get_current_run_tree\n    run = get_current_run_tree()\n    if run:\n        run.add_metadata({\n            \"api_endpoint\": f\"{client.base_url}/users/{user_id}\",\n            \"request_time\": datetime.now().isoformat()\n        })\n        run.add_tags([\"api-call\", \"user-data\"])\n    \n    try:\n        user_data = client.get_user_data(user_id)\n        return user_data\n    except Exception as e:\n        if run:\n            run.add_metadata({\"error\": str(e)})\n        raise\n\n@traceable(name=\"Data Processor\")\ndef process_user_data(user_data: dict) -> dict:\n    \"\"\"Process user data with additional information.\"\"\"\n    processed = {\n        \"user_info\": user_data,\n        \"processed_at\": datetime.now().isoformat(),\n        \"display_name\": user_data.get(\"name\", \"Unknown User\"),\n        \"account_age_days\": 30  # Mock calculation\n    }\n    return processed\n\n@traceable(name=\"User Data Pipeline\")\ndef user_data_pipeline(user_id: str) -> dict:\n    \"\"\"Complete pipeline for fetching and processing user data.\"\"\"\n    \n    # Fetch data\n    raw_data = fetch_user_data(user_id)\n    \n    # Process data\n    processed_data = process_user_data(raw_data)\n    \n    # Add pipeline metadata\n    from langsmith import get_current_run_tree\n    run = get_current_run_tree()\n    if run:\n        run.add_metadata({\n            \"pipeline_version\": \"1.0\",\n            \"user_id\": user_id,\n            \"steps_completed\": [\"fetch\", \"process\"]\n        })\n    \n    return processed_data\n\n# Test the pipeline\nprint(\"=== User Data Pipeline Test ===\")\nresult = user_data_pipeline(\"12345\")\nprint(json.dumps(result, indent=2))",
   "metadata": {},
   "execution_count": null,
   "outputs": []
  },
  {
   "cell_type": "markdown",
   "source": "## Real-World Example: API Integration\n\nHere's a practical example of how you might use LangSmith to trace an application that makes API calls:",
   "metadata": {}
  },
  {
   "cell_type": "code",
   "source": "@traceable(name=\"Error-Prone Function\")\ndef risky_operation(data: str, should_fail: bool = False) -> str:\n    \"\"\"A function that might fail to demonstrate error tracing.\"\"\"\n    \n    if should_fail:\n        raise ValueError(f\"Intentional error for demonstration with data: {data}\")\n    \n    if not data:\n        raise ValueError(\"Input data cannot be empty\")\n    \n    return f\"Successfully processed: {data}\"\n\n# Test successful operation\ntry:\n    result = risky_operation(\"test data\")\n    print(f\"✅ Success: {result}\")\nexcept Exception as e:\n    print(f\"❌ Error: {e}\")\n\n# Test error scenario\ntry:\n    result = risky_operation(\"test data\", should_fail=True)\n    print(f\"✅ Success: {result}\")\nexcept Exception as e:\n    print(f\"❌ Error: {e}\")\n\n# Test with empty data\ntry:\n    result = risky_operation(\"\")\n    print(f\"✅ Success: {result}\")\nexcept Exception as e:\n    print(f\"❌ Error: {e}\")",
   "metadata": {},
   "execution_count": null,
   "outputs": []
  },
  {
   "cell_type": "markdown",
   "source": "## Error Handling and Tracing\n\nLangSmith automatically captures errors and exceptions, making debugging easier:",
   "metadata": {}
  },
  {
   "cell_type": "code",
   "source": "from langsmith import traceable\n\n@traceable(\n    name=\"Enhanced Data Processor\",\n    metadata={\"version\": \"1.0\", \"author\": \"tutorial\"},\n    tags=[\"data-processing\", \"example\"]\n)\ndef enhanced_process_data(data: str, processing_mode: str = \"standard\") -> dict:\n    \"\"\"Enhanced data processing with metadata and tags.\"\"\"\n    \n    # Add runtime metadata\n    from langsmith import get_current_run_tree\n    run = get_current_run_tree()\n    if run:\n        run.add_metadata({\n            \"processing_mode\": processing_mode,\n            \"input_length\": len(data)\n        })\n        run.add_tags([\"runtime-tag\"])\n    \n    # Process data based on mode\n    if processing_mode == \"detailed\":\n        result = {\n            \"original\": data,\n            \"processed\": data.upper(),\n            \"length\": len(data),\n            \"words\": data.split(),\n            \"reversed\": data[::-1],\n            \"mode\": processing_mode\n        }\n    else:\n        result = {\n            \"processed\": data.upper(),\n            \"length\": len(data),\n            \"mode\": processing_mode\n        }\n    \n    return result\n\n# Test with different modes\nprint(\"=== Standard Mode ===\")\nresult1 = enhanced_process_data(\"Hello LangSmith!\")\nprint(result1)\n\nprint(\"\\n=== Detailed Mode ===\")\nresult2 = enhanced_process_data(\"Hello LangSmith!\", processing_mode=\"detailed\")\nprint(result2)",
   "metadata": {},
   "execution_count": null,
   "outputs": []
  },
  {
   "cell_type": "markdown",
   "source": "## Adding Metadata and Tags\n\nYou can enhance your traces with additional metadata and tags for better organization and filtering:",
   "metadata": {}
  },
  {
   "cell_type": "code",
   "source": "import time\nimport random\n\n@traceable(name=\"Text Analyzer\")\ndef analyze_text(text: str) -> dict:\n    \"\"\"Analyze text using various sub-functions.\"\"\"\n    \n    # Simulate some processing time\n    time.sleep(0.1)\n    \n    # Call other traced functions\n    word_stats = get_word_statistics(text)\n    sentiment = analyze_sentiment(text)\n    summary = create_summary(text)\n    \n    return {\n        \"word_stats\": word_stats,\n        \"sentiment\": sentiment,\n        \"summary\": summary,\n        \"timestamp\": time.time()\n    }\n\n@traceable(name=\"Word Statistics\")\ndef get_word_statistics(text: str) -> dict:\n    \"\"\"Get basic word statistics.\"\"\"\n    words = text.split()\n    return {\n        \"word_count\": len(words),\n        \"char_count\": len(text),\n        \"avg_word_length\": sum(len(word) for word in words) / len(words) if words else 0\n    }\n\n@traceable(name=\"Sentiment Analysis\")\ndef analyze_sentiment(text: str) -> str:\n    \"\"\"Mock sentiment analysis.\"\"\"\n    time.sleep(0.05)  # Simulate API call\n    sentiments = [\"positive\", \"negative\", \"neutral\"]\n    return random.choice(sentiments)\n\n@traceable(name=\"Text Summarizer\")\ndef create_summary(text: str) -> str:\n    \"\"\"Create a simple summary.\"\"\"\n    words = text.split()\n    if len(words) <= 10:\n        return text\n    return \" \".join(words[:10]) + \"...\"\n\n# Test nested tracing\nsample_text = \"This is a comprehensive example of using LangSmith for tracing Python applications without LangChain. It demonstrates nested function calls and hierarchical tracing.\"\n\nanalysis_result = analyze_text(sample_text)\nprint(\"Analysis Result:\")\nfor key, value in analysis_result.items():\n    print(f\"  {key}: {value}\")",
   "metadata": {},
   "execution_count": null,
   "outputs": []
  },
  {
   "cell_type": "markdown",
   "source": "## Advanced Usage: Nested Function Calls\n\nLangSmith can trace nested function calls, creating a hierarchical view of your application's execution flow:",
   "metadata": {}
  },
  {
   "cell_type": "code",
   "source": "from langsmith import traceable\n\n# Example 1: Basic function tracing\n@traceable\ndef process_text(text: str) -> str:\n    \"\"\"A simple text processing function.\"\"\"\n    return text.upper().strip()\n\n# Example 2: Function with custom name in LangSmith UI\n@traceable(name=\"Data Processor\")\ndef process_data(data: str) -> dict:\n    \"\"\"Process data and return structured information.\"\"\"\n    return {\n        \"original\": data,\n        \"processed\": data.upper(),\n        \"length\": len(data),\n        \"word_count\": len(data.split())\n    }\n\n# Test the functions\nresult1 = process_text(\"  hello world  \")\nprint(f\"Basic processing result: {result1}\")\n\nresult2 = process_data(\"This is a sample text for processing\")\nprint(f\"Data processing result: {result2}\")",
   "metadata": {},
   "execution_count": null,
   "outputs": []
  },
  {
   "cell_type": "markdown",
   "source": "## Basic Usage: The @traceable Decorator\n\nThe `@traceable` decorator is the core feature for adding observability to your functions. It automatically captures:\n\n- Function inputs and outputs\n- Execution time\n- Error information (if any)\n- Custom metadata and tags\n\nLet's start with a simple example:",
   "metadata": {}
  }
 ],
 "metadata": {
  "kernelspec": {
   "display_name": "Langchian",
   "language": "python",
   "name": "python3"
  },
  "language_info": {
   "codemirror_mode": {
    "name": "ipython",
    "version": 3
   },
   "file_extension": ".py",
   "mimetype": "text/x-python",
   "name": "python",
   "nbconvert_exporter": "python",
   "pygments_lexer": "ipython3",
   "version": "3.13.3"
  }
 },
 "nbformat": 4,
 "nbformat_minor": 2
}