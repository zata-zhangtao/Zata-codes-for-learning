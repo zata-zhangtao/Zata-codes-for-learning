{
 "cells": [
  {
   "cell_type": "code",
   "execution_count": 1,
   "metadata": {},
   "outputs": [],
   "source": [
    "import os\n",
    "os.getenv(\"LANGCHAIN_API_KEY\")\n",
    "os.environ[\"LANGCHAIN_TRACING_V2\"] = \"true\"\n",
    "os.environ[\"LANGCHAIN_PROJECT\"] = \"My Custom Function\""
   ]
  },
  {
   "cell_type": "code",
   "execution_count": 2,
   "metadata": {},
   "outputs": [
    {
     "name": "stdout",
     "output_type": "stream",
     "text": [
      "THIS IS SOME INPUT TEXT.\n"
     ]
    }
   ],
   "source": [
    "from langsmith import traceable\n",
    "import os\n",
    "\n",
    "# 确保已设置 LangSmith 环境变量\n",
    "\n",
    "@traceable(name=\"My Custom Function\") # name 参数可选，用于在 LangSmith UI 中显示\n",
    "def my_data_processing_function(data: str) -> str:\n",
    "    # 假设这里有一些数据处理逻辑\n",
    "    processed_data = data.upper()\n",
    "    return processed_data\n",
    "\n",
    "@traceable\n",
    "def my_llm_logic(user_input: str):\n",
    "    # 假设这里调用了 LLM\n",
    "    # from langchain_openai import ChatOpenAI\n",
    "    # llm = ChatOpenAI()\n",
    "    # response = llm.invoke(f\"Summarize this: {user_input}\")\n",
    "    # processed_input = my_data_processing_function(user_input)\n",
    "    # return response.content\n",
    "    # 为了简化，我们这里只返回处理后的输入\n",
    "    return my_data_processing_function(user_input)\n",
    "\n",
    "# 调用被追踪的函数\n",
    "output = my_llm_logic(\"This is some input text.\")\n",
    "print(output)"
   ]
  }
 ],
 "metadata": {
  "kernelspec": {
   "display_name": "Langchian",
   "language": "python",
   "name": "python3"
  },
  "language_info": {
   "codemirror_mode": {
    "name": "ipython",
    "version": 3
   },
   "file_extension": ".py",
   "mimetype": "text/x-python",
   "name": "python",
   "nbconvert_exporter": "python",
   "pygments_lexer": "ipython3",
   "version": "3.13.3"
  }
 },
 "nbformat": 4,
 "nbformat_minor": 2
}
