{
 "cells": [
  {
   "cell_type": "markdown",
   "metadata": {},
   "source": [
    "# 使用 LangGraph 构建基础聊天机器人\n",
    "\n",
    "在本教程中，你将使用 LangGraph 构建一个基础的聊天机器人。这个聊天机器人将作为后续更高级教程的基础，我们将逐步添加更复杂的功能并介绍 LangGraph 的核心概念。\n",
    "\n",
    "## 前置要求\n",
    "\n",
    "在开始本教程之前，请确保你有一个支持工具调用功能的 LLM。在本例中，我们将使用通义千问的 Qwen 模型。"
   ]
  },
  {
   "cell_type": "markdown",
   "metadata": {},
   "source": [
    "## 1. 安装必要的包\n",
    "\n",
    "首先，让我们安装必要的包："
   ]
  },
  {
   "cell_type": "code",
   "execution_count": 1,
   "metadata": {},
   "outputs": [
    {
     "name": "stdout",
     "output_type": "stream",
     "text": [
      "Requirement already satisfied: langgraph in c:\\users\\zata\\.conda\\envs\\langchian\\lib\\site-packages (0.4.3)\n",
      "Collecting langgraph\n",
      "  Downloading langgraph-0.4.8-py3-none-any.whl.metadata (6.8 kB)\n",
      "Requirement already satisfied: langsmith in c:\\users\\zata\\.conda\\envs\\langchian\\lib\\site-packages (0.3.42)\n",
      "Collecting langsmith\n",
      "  Downloading langsmith-0.3.44-py3-none-any.whl.metadata (15 kB)\n",
      "Requirement already satisfied: langchain-core>=0.1 in c:\\users\\zata\\.conda\\envs\\langchian\\lib\\site-packages (from langgraph) (0.3.59)\n",
      "Collecting langgraph-checkpoint>=2.0.26 (from langgraph)\n",
      "  Downloading langgraph_checkpoint-2.0.26-py3-none-any.whl.metadata (4.6 kB)\n",
      "Collecting langgraph-prebuilt>=0.2.0 (from langgraph)\n",
      "  Downloading langgraph_prebuilt-0.2.2-py3-none-any.whl.metadata (4.5 kB)\n",
      "Requirement already satisfied: langgraph-sdk>=0.1.42 in c:\\users\\zata\\.conda\\envs\\langchian\\lib\\site-packages (from langgraph) (0.1.66)\n",
      "Requirement already satisfied: pydantic>=2.7.4 in c:\\users\\zata\\.conda\\envs\\langchian\\lib\\site-packages (from langgraph) (2.11.4)\n",
      "Requirement already satisfied: xxhash>=3.5.0 in c:\\users\\zata\\.conda\\envs\\langchian\\lib\\site-packages (from langgraph) (3.5.0)\n",
      "Requirement already satisfied: httpx<1,>=0.23.0 in c:\\users\\zata\\.conda\\envs\\langchian\\lib\\site-packages (from langsmith) (0.28.1)\n",
      "Requirement already satisfied: orjson<4.0.0,>=3.9.14 in c:\\users\\zata\\.conda\\envs\\langchian\\lib\\site-packages (from langsmith) (3.10.18)\n",
      "Requirement already satisfied: packaging>=23.2 in c:\\users\\zata\\.conda\\envs\\langchian\\lib\\site-packages (from langsmith) (24.2)\n",
      "Requirement already satisfied: requests<3,>=2 in c:\\users\\zata\\.conda\\envs\\langchian\\lib\\site-packages (from langsmith) (2.32.3)\n",
      "Requirement already satisfied: requests-toolbelt<2.0.0,>=1.0.0 in c:\\users\\zata\\.conda\\envs\\langchian\\lib\\site-packages (from langsmith) (1.0.0)\n",
      "Requirement already satisfied: zstandard<0.24.0,>=0.23.0 in c:\\users\\zata\\.conda\\envs\\langchian\\lib\\site-packages (from langsmith) (0.23.0)\n",
      "Requirement already satisfied: anyio in c:\\users\\zata\\.conda\\envs\\langchian\\lib\\site-packages (from httpx<1,>=0.23.0->langsmith) (4.9.0)\n",
      "Requirement already satisfied: certifi in c:\\users\\zata\\.conda\\envs\\langchian\\lib\\site-packages (from httpx<1,>=0.23.0->langsmith) (2025.4.26)\n",
      "Requirement already satisfied: httpcore==1.* in c:\\users\\zata\\.conda\\envs\\langchian\\lib\\site-packages (from httpx<1,>=0.23.0->langsmith) (1.0.9)\n",
      "Requirement already satisfied: idna in c:\\users\\zata\\.conda\\envs\\langchian\\lib\\site-packages (from httpx<1,>=0.23.0->langsmith) (3.10)\n",
      "Requirement already satisfied: h11>=0.16 in c:\\users\\zata\\.conda\\envs\\langchian\\lib\\site-packages (from httpcore==1.*->httpx<1,>=0.23.0->langsmith) (0.16.0)\n",
      "Requirement already satisfied: annotated-types>=0.6.0 in c:\\users\\zata\\.conda\\envs\\langchian\\lib\\site-packages (from pydantic>=2.7.4->langgraph) (0.7.0)\n",
      "Requirement already satisfied: pydantic-core==2.33.2 in c:\\users\\zata\\.conda\\envs\\langchian\\lib\\site-packages (from pydantic>=2.7.4->langgraph) (2.33.2)\n",
      "Requirement already satisfied: typing-extensions>=4.12.2 in c:\\users\\zata\\.conda\\envs\\langchian\\lib\\site-packages (from pydantic>=2.7.4->langgraph) (4.13.2)\n",
      "Requirement already satisfied: typing-inspection>=0.4.0 in c:\\users\\zata\\.conda\\envs\\langchian\\lib\\site-packages (from pydantic>=2.7.4->langgraph) (0.4.0)\n",
      "Requirement already satisfied: charset-normalizer<4,>=2 in c:\\users\\zata\\.conda\\envs\\langchian\\lib\\site-packages (from requests<3,>=2->langsmith) (3.4.2)\n",
      "Requirement already satisfied: urllib3<3,>=1.21.1 in c:\\users\\zata\\.conda\\envs\\langchian\\lib\\site-packages (from requests<3,>=2->langsmith) (2.4.0)\n",
      "Requirement already satisfied: tenacity!=8.4.0,<10.0.0,>=8.1.0 in c:\\users\\zata\\.conda\\envs\\langchian\\lib\\site-packages (from langchain-core>=0.1->langgraph) (9.1.2)\n",
      "Requirement already satisfied: jsonpatch<2.0,>=1.33 in c:\\users\\zata\\.conda\\envs\\langchian\\lib\\site-packages (from langchain-core>=0.1->langgraph) (1.33)\n",
      "Requirement already satisfied: PyYAML>=5.3 in c:\\users\\zata\\.conda\\envs\\langchian\\lib\\site-packages (from langchain-core>=0.1->langgraph) (6.0.2)\n",
      "Requirement already satisfied: jsonpointer>=1.9 in c:\\users\\zata\\.conda\\envs\\langchian\\lib\\site-packages (from jsonpatch<2.0,>=1.33->langchain-core>=0.1->langgraph) (3.0.0)\n",
      "Requirement already satisfied: ormsgpack<2.0.0,>=1.8.0 in c:\\users\\zata\\.conda\\envs\\langchian\\lib\\site-packages (from langgraph-checkpoint>=2.0.26->langgraph) (1.9.1)\n",
      "Requirement already satisfied: sniffio>=1.1 in c:\\users\\zata\\.conda\\envs\\langchian\\lib\\site-packages (from anyio->httpx<1,>=0.23.0->langsmith) (1.3.1)\n",
      "Downloading langgraph-0.4.8-py3-none-any.whl (152 kB)\n",
      "Downloading langsmith-0.3.44-py3-none-any.whl (361 kB)\n",
      "Downloading langgraph_checkpoint-2.0.26-py3-none-any.whl (44 kB)\n",
      "Downloading langgraph_prebuilt-0.2.2-py3-none-any.whl (23 kB)\n",
      "Installing collected packages: langsmith, langgraph-checkpoint, langgraph-prebuilt, langgraph\n",
      "\n",
      "  Attempting uninstall: langsmith\n",
      "\n",
      "    Found existing installation: langsmith 0.3.42\n",
      "\n",
      "    Uninstalling langsmith-0.3.42:\n",
      "\n",
      "      Successfully uninstalled langsmith-0.3.42\n",
      "\n",
      "   ---------------------------------------- 0/4 [langsmith]\n",
      "   ---------------------------------------- 0/4 [langsmith]\n",
      "   ---------------------------------------- 0/4 [langsmith]\n",
      "   ---------------------------------------- 0/4 [langsmith]\n",
      "   ---------------------------------------- 0/4 [langsmith]\n",
      "   ---------------------------------------- 0/4 [langsmith]\n",
      "  Attempting uninstall: langgraph-checkpoint\n",
      "   ---------------------------------------- 0/4 [langsmith]\n",
      "    Found existing installation: langgraph-checkpoint 2.0.25\n",
      "   ---------------------------------------- 0/4 [langsmith]\n",
      "    Uninstalling langgraph-checkpoint-2.0.25:\n",
      "   ---------------------------------------- 0/4 [langsmith]\n",
      "      Successfully uninstalled langgraph-checkpoint-2.0.25\n",
      "   ---------------------------------------- 0/4 [langsmith]\n",
      "   ---------- ----------------------------- 1/4 [langgraph-checkpoint]\n",
      "   ---------- ----------------------------- 1/4 [langgraph-checkpoint]\n",
      "  Attempting uninstall: langgraph-prebuilt\n",
      "   ---------- ----------------------------- 1/4 [langgraph-checkpoint]\n",
      "    Found existing installation: langgraph-prebuilt 0.1.8\n",
      "   ---------- ----------------------------- 1/4 [langgraph-checkpoint]\n",
      "    Uninstalling langgraph-prebuilt-0.1.8:\n",
      "   ---------- ----------------------------- 1/4 [langgraph-checkpoint]\n",
      "   -------------------- ------------------- 2/4 [langgraph-prebuilt]\n",
      "      Successfully uninstalled langgraph-prebuilt-0.1.8\n",
      "   -------------------- ------------------- 2/4 [langgraph-prebuilt]\n",
      "   -------------------- ------------------- 2/4 [langgraph-prebuilt]\n",
      "  Attempting uninstall: langgraph\n",
      "   -------------------- ------------------- 2/4 [langgraph-prebuilt]\n",
      "    Found existing installation: langgraph 0.4.3\n",
      "   -------------------- ------------------- 2/4 [langgraph-prebuilt]\n",
      "    Uninstalling langgraph-0.4.3:\n",
      "   -------------------- ------------------- 2/4 [langgraph-prebuilt]\n",
      "   ------------------------------ --------- 3/4 [langgraph]\n",
      "      Successfully uninstalled langgraph-0.4.3\n",
      "   ------------------------------ --------- 3/4 [langgraph]\n",
      "   ------------------------------ --------- 3/4 [langgraph]\n",
      "   ------------------------------ --------- 3/4 [langgraph]\n",
      "   ------------------------------ --------- 3/4 [langgraph]\n",
      "   ------------------------------ --------- 3/4 [langgraph]\n",
      "   ------------------------------ --------- 3/4 [langgraph]\n",
      "   ---------------------------------------- 4/4 [langgraph]\n",
      "\n",
      "Successfully installed langgraph-0.4.8 langgraph-checkpoint-2.0.26 langgraph-prebuilt-0.2.2 langsmith-0.3.44\n"
     ]
    }
   ],
   "source": [
    "!pip install -U langgraph langsmith"
   ]
  },
  {
   "cell_type": "markdown",
   "metadata": {},
   "source": [
    "\n",
    "## 2. 创建 StateGraph\n",
    "\n",
    "现在我们将使用 LangGraph 创建一个基础的聊天机器人。这个聊天机器人将直接响应用户消息。\n",
    "\n",
    "我们首先创建一个 StateGraph。StateGraph 对象将我们的聊天机器人定义为一个\"状态机\"。我们将添加节点来表示 LLM 和聊天机器人可以调用的函数，并添加边来指定机器人如何在这些函数之间转换。\n",
    "\n",
    "State 类定义了我们的图的模式和用于处理状态更新的 reducer 函数。在我们的例子中，State 是一个 TypedDict，它有一个键：messages。add_messages reducer 函数用于将新消息追加到列表中，而不是覆盖它。"
   ]
  },
  {
   "cell_type": "code",
   "execution_count": 2,
   "metadata": {},
   "outputs": [],
   "source": [
    "from typing import Annotated\n",
    "\n",
    "from typing_extensions import TypedDict\n",
    "\n",
    "from langgraph.graph import StateGraph, START\n",
    "from langgraph.graph.message import add_messages\n",
    "\n",
    "\n",
    "class State(TypedDict):\n",
    "    # Messages have the type \"list\". The `add_messages` function\n",
    "    # in the annotation defines how this state key should be updated\n",
    "    # (in this case, it appends messages to the list, rather than overwriting them)\n",
    "    messages: Annotated[list, add_messages]\n",
    "\n",
    "\n",
    "graph_builder = StateGraph(State)"
   ]
  },
  {
   "cell_type": "markdown",
   "metadata": {},
   "source": [
    "让我来解释一下 `Annotated` 的作用：\n",
    "\n",
    "`Annotated` 是 Python 的类型提示（Type Hints）系统中的一个特殊类型，它允许我们为类型添加额外的元数据。在 LangGraph 的上下文中，它被用来定义状态更新的行为。\n",
    "\n",
    "让我们详细分析代码中的使用：\n",
    "\n",
    "```python\n",
    "from typing import Annotated\n",
    "\n",
    "class State(TypedDict):\n",
    "    messages: Annotated[list, add_messages]\n",
    "```\n",
    "\n",
    "这里 `Annotated` 的作用是：\n",
    "\n",
    "1. **类型定义**：第一个参数 `list` 表示 `messages` 字段的类型是一个列表\n",
    "\n",
    "2. **行为定义**：第二个参数 `add_messages` 是一个 reducer 函数，它定义了如何更新这个状态：\n",
    "   - 当新的消息到来时，`add_messages` 会将这些消息追加到现有的消息列表中\n",
    "   - 而不是简单地覆盖整个列表\n",
    "\n",
    "举个例子来说明区别：\n",
    "\n",
    "```python\n",
    "# 不使用 Annotated 的情况\n",
    "state = {\"messages\": [\"消息1\"]}\n",
    "state[\"messages\"] = [\"消息2\"]  # 这会覆盖之前的消息\n",
    "\n",
    "# 使用 Annotated 和 add_messages 的情况\n",
    "state = {\"messages\": [\"消息1\"]}\n",
    "# 当新消息到来时，add_messages 会将其追加到列表中\n",
    "# 结果会是 [\"消息1\", \"消息2\"]\n",
    "```\n",
    "\n",
    "在 LangGraph 中，这种设计特别有用，因为：\n",
    "1. 它允许我们保持对话历史\n",
    "2. 确保消息按顺序累积\n",
    "3. 避免意外覆盖之前的消息\n",
    "\n",
    "这就是为什么在聊天机器人中，我们使用 `Annotated[list, add_messages]` 来确保所有对话消息都被正确保存和累积。\n"
   ]
  },
  {
   "cell_type": "markdown",
   "metadata": {},
   "source": [
    "## 3. 设置 LLM\n",
    "\n",
    "我们将使用通义千问的 Qwen 模型作为我们的 LLM。让我们初始化它并用一个简单的消息测试它。"
   ]
  },
  {
   "cell_type": "code",
   "execution_count": 8,
   "metadata": {},
   "outputs": [
    {
     "data": {
      "text/plain": [
       "AIMessage(content='你好！有什么可以帮助你的吗？', additional_kwargs={}, response_metadata={'model_name': 'qwen-max', 'finish_reason': 'stop', 'request_id': 'ef0eb701-ff4f-94f9-b0fa-8bbd41bd1515', 'token_usage': {'input_tokens': 9, 'output_tokens': 7, 'total_tokens': 16, 'prompt_tokens_details': {'cached_tokens': 0}}}, id='run--50c9b711-842e-47ce-8ad9-e4fcf9c73a45-0')"
      ]
     },
     "execution_count": 8,
     "metadata": {},
     "output_type": "execute_result"
    }
   ],
   "source": [
    "import os\n",
    "from langchain_community.chat_models import ChatTongyi\n",
    "\n",
    "llm = ChatTongyi(\n",
    "    model=\"qwen-max\"\n",
    ")\n",
    "\n",
    "llm.invoke(\"你好\")\n"
   ]
  },
  {
   "cell_type": "markdown",
   "metadata": {},
   "source": [
    "\n",
    "## 4. 添加聊天机器人节点\n",
    "\n",
    "接下来，我们将添加一个\"chatbot\"节点。节点代表工作单元，通常是普通的 Python 函数。聊天机器人节点将使用我们的 LLM 来生成对用户消息的响应。\n"
   ]
  },
  {
   "cell_type": "code",
   "execution_count": 9,
   "metadata": {},
   "outputs": [
    {
     "data": {
      "text/plain": [
       "<langgraph.graph.state.StateGraph at 0x1e0b6edd160>"
      ]
     },
     "execution_count": 9,
     "metadata": {},
     "output_type": "execute_result"
    }
   ],
   "source": [
    "def chatbot(state: State):\n",
    "    return {\"messages\": [llm.invoke(state[\"messages\"])]}\n",
    "\n",
    "\n",
    "# The first argument is the unique node name\n",
    "# The second argument is the function or object that will be called whenever\n",
    "# the node is used.\n",
    "graph_builder.add_node(\"chatbot\", chatbot)"
   ]
  },
  {
   "cell_type": "markdown",
   "metadata": {},
   "source": [
    "\n",
    "## 5. 添加入口点\n",
    "\n",
    "我们需要添加一个入口点来告诉图每次运行时从哪里开始工作。在这种情况下，我们将 START 节点连接到我们的聊天机器人节点。"
   ]
  },
  {
   "cell_type": "code",
   "execution_count": 10,
   "metadata": {},
   "outputs": [
    {
     "data": {
      "text/plain": [
       "<langgraph.graph.state.StateGraph at 0x1e0b6edd160>"
      ]
     },
     "execution_count": 10,
     "metadata": {},
     "output_type": "execute_result"
    }
   ],
   "source": [
    "graph_builder.add_edge(START, \"chatbot\")"
   ]
  },
  {
   "cell_type": "markdown",
   "metadata": {},
   "source": [
    "\n",
    "## 6. 编译图\n",
    "\n",
    "在运行图之前，我们需要编译它。这将创建一个 CompiledGraph，我们可以在我们的状态上调用它。"
   ]
  },
  {
   "cell_type": "code",
   "execution_count": 11,
   "metadata": {},
   "outputs": [],
   "source": [
    "graph = graph_builder.compile()"
   ]
  },
  {
   "cell_type": "markdown",
   "metadata": {},
   "source": [
    "\n",
    "## 7. 可视化图（可选）\n",
    "\n",
    "你可以使用 get_graph 方法和其中一个\"draw\"方法来可视化图。这一步是可选的，需要额外的依赖项。"
   ]
  },
  {
   "cell_type": "code",
   "execution_count": 13,
   "metadata": {},
   "outputs": [
    {
     "data": {
      "image/png": "[encoded data removed]",
      "text/plain": [
       "<IPython.core.display.Image object>"
      ]
     },
     "metadata": {},
     "output_type": "display_data"
    }
   ],
   "source": [
    "from IPython.display import Image, display\n",
    "\n",
    "try:\n",
    "    display(Image(graph.get_graph().draw_mermaid_png()))\n",
    "except Exception:\n",
    "    # This requires some extra dependencies and is optional\n",
    "    pass"
   ]
  }
 ],
 "metadata": {
  "kernelspec": {
   "display_name": "Langchian",
   "language": "python",
   "name": "python3"
  },
  "language_info": {
   "codemirror_mode": {
    "name": "ipython",
    "version": 3
   },
   "file_extension": ".py",
   "mimetype": "text/x-python",
   "name": "python",
   "nbconvert_exporter": "python",
   "pygments_lexer": "ipython3",
   "version": "3.13.3"
  }
 },
 "nbformat": 4,
 "nbformat_minor": 2
}
