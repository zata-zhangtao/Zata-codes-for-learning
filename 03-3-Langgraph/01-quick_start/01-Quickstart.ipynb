{
 "cells": [
  {
   "cell_type": "markdown",
   "metadata": {},
   "source": [
    "This guide shows you how to set up and use LangGraph's prebuilt, reusable components, which are designed to help you construct agentic systems quickly and reliably.\n",
    "\n",
    "\n",
    "# 第一步安装依赖"
   ]
  },
  {
   "cell_type": "code",
   "execution_count": null,
   "metadata": {},
   "outputs": [],
   "source": [
    "!pip install -U langgraph"
   ]
  },
  {
   "cell_type": "markdown",
   "metadata": {},
   "source": [
    "# 2. 创建一个agent"
   ]
  },
  {
   "cell_type": "code",
   "execution_count": 3,
   "metadata": {},
   "outputs": [],
   "source": [
    "from langchain_community.chat_models import ChatTongyi\n",
    "llm = ChatTongyi(\n",
    "    model=\"qwen-max\"\n",
    ")"
   ]
  },
  {
   "cell_type": "code",
   "execution_count": 5,
   "metadata": {},
   "outputs": [
    {
     "data": {
      "text/plain": [
       "{'messages': [HumanMessage(content='what is the weather in sf', additional_kwargs={}, response_metadata={}, id='e6fbebaa-6d46-4a2e-8428-cd9fe6fe8099'),\n",
       "  AIMessage(content='', additional_kwargs={'tool_calls': [{'function': {'name': 'get_weather', 'arguments': '{\"city\": \"sf\"}'}, 'index': 0, 'id': 'call_2185a0d660494c68893373', 'type': 'function'}]}, response_metadata={'model_name': 'qwen-max', 'finish_reason': 'tool_calls', 'request_id': '60312dcc-3053-9deb-af3c-25ebc96a7edd', 'token_usage': {'input_tokens': 171, 'output_tokens': 17, 'total_tokens': 188, 'prompt_tokens_details': {'cached_tokens': 0}}}, id='run--1d186acb-6a97-46e7-89b4-64b7ab204dc3-0', tool_calls=[{'name': 'get_weather', 'args': {'city': 'sf'}, 'id': 'call_2185a0d660494c68893373', 'type': 'tool_call'}]),\n",
       "  ToolMessage(content=\"It's always sunny in sf!\", name='get_weather', id='8c7113e6-36b9-43cf-8ae2-5c129dfc4f7d', tool_call_id='call_2185a0d660494c68893373'),\n",
       "  AIMessage(content=\"It's always sunny in San Francisco (SF)! However, please note that the weather can change quickly, and this might not reflect the current actual weather conditions. For the most accurate and up-to-date information, you may want to check a real-time weather source.\", additional_kwargs={}, response_metadata={'model_name': 'qwen-max', 'finish_reason': 'stop', 'request_id': 'a21f69f0-8188-9c47-907b-231fe52f2d21', 'token_usage': {'input_tokens': 202, 'output_tokens': 54, 'total_tokens': 256, 'prompt_tokens_details': {'cached_tokens': 0}}}, id='run--57323083-c1c9-4586-b5fb-9c3384a23698-0')]}"
      ]
     },
     "execution_count": 5,
     "metadata": {},
     "output_type": "execute_result"
    }
   ],
   "source": [
    "from langgraph.prebuilt import create_react_agent\n",
    "\n",
    "def get_weather(city: str) -> str:  \n",
    "    \"\"\"Get weather for a given city.\"\"\"\n",
    "    return f\"It's always sunny in {city}!\"\n",
    "\n",
    "agent = create_react_agent(\n",
    "    model=llm,\n",
    "    tools=[get_weather],  \n",
    "    prompt=\"You are a helpful assistant\"  \n",
    ")\n",
    "\n",
    "# Run the agent\n",
    "agent.invoke(\n",
    "    {\"messages\": [{\"role\": \"user\", \"content\": \"what is the weather in sf\"}]}\n",
    ")"
   ]
  },
  {
   "cell_type": "markdown",
   "metadata": {},
   "source": [
    "# Add a custom prompt"
   ]
  },
  {
   "cell_type": "markdown",
   "metadata": {},
   "source": [
    "## 使用静态提示词"
   ]
  },
  {
   "cell_type": "code",
   "execution_count": 8,
   "metadata": {},
   "outputs": [
    {
     "data": {
      "text/plain": [
       "{'messages': [HumanMessage(content='what is the weather in sf', additional_kwargs={}, response_metadata={}, id='b312ddc6-5191-493b-bdb7-8bed977bd962'),\n",
       "  AIMessage(content='', additional_kwargs={'tool_calls': [{'function': {'name': 'get_weather', 'arguments': '{\"city\": \"San Francisco\"}'}, 'index': 0, 'id': 'call_0dde97af7f1e4c99b49c1c', 'type': 'function'}]}, response_metadata={'model_name': 'qwen-max', 'finish_reason': 'tool_calls', 'request_id': '0ede0308-335e-9e1d-930e-27c52d935173', 'token_usage': {'input_tokens': 172, 'output_tokens': 18, 'total_tokens': 190, 'prompt_tokens_details': {'cached_tokens': 0}}}, id='run--df558f9d-36b5-454b-a49f-ff7999c94788-0', tool_calls=[{'name': 'get_weather', 'args': {'city': 'San Francisco'}, 'id': 'call_0dde97af7f1e4c99b49c1c', 'type': 'tool_call'}]),\n",
       "  ToolMessage(content=\"It's always sunny in San Francisco!\", name='get_weather', id='725ffa0c-019e-4646-9029-e643af11d370', tool_call_id='call_0dde97af7f1e4c99b49c1c'),\n",
       "  AIMessage(content=\"It seems like there might be a touch of humor in the response I received, as it's a common joke that it's always sunny in San Francisco. However, in reality, the weather can vary. If you need the actual current weather, feel free to ask, and I can get an update for you.\\nPlease note that the typical climate for San Francisco is quite mild with frequent fog during certain times of the year. Would you like the real-time weather details instead?\", additional_kwargs={}, response_metadata={'model_name': 'qwen-max', 'finish_reason': 'stop', 'request_id': 'd1f4e56f-602c-902a-8d9e-60492f5415c4', 'token_usage': {'input_tokens': 205, 'output_tokens': 96, 'total_tokens': 301, 'prompt_tokens_details': {'cached_tokens': 0}}}, id='run--45eec9c5-03ea-4f41-83ec-4f3497988b7d-0')]}"
      ]
     },
     "execution_count": 8,
     "metadata": {},
     "output_type": "execute_result"
    }
   ],
   "source": [
    "from langgraph.prebuilt import create_react_agent\n",
    "\n",
    "llm = ChatTongyi(\n",
    "    model=\"qwen-max\"\n",
    ")\n",
    "\n",
    "agent = create_react_agent(\n",
    "    model=llm,\n",
    "    tools=[get_weather],\n",
    "    # A static prompt that never changes\n",
    "    prompt=\"Never answer questions about the weather.\"\n",
    ")\n",
    "\n",
    "agent.invoke(\n",
    "    {\"messages\": [{\"role\": \"user\", \"content\": \"what is the weather in sf\"}]}\n",
    ")"
   ]
  },
  {
   "cell_type": "markdown",
   "metadata": {},
   "source": [
    "## 使用动态提示词"
   ]
  },
  {
   "cell_type": "code",
   "execution_count": 9,
   "metadata": {},
   "outputs": [
    {
     "data": {
      "text/plain": [
       "{'messages': [HumanMessage(content='what is the weather in sf', additional_kwargs={}, response_metadata={}, id='24ef88e9-f84f-4144-be29-1c6fd6a3149c'),\n",
       "  AIMessage(content='', additional_kwargs={'tool_calls': [{'function': {'name': 'get_weather', 'arguments': '{\"city\": \"San Francisco, US\"}'}, 'index': 0, 'id': 'call_dacc68277e4446ec8d1538', 'type': 'function'}]}, response_metadata={'model_name': 'qwen-max', 'finish_reason': 'tool_calls', 'request_id': '58997d05-a569-9735-a251-eb389941bb7b', 'token_usage': {'input_tokens': 178, 'output_tokens': 20, 'total_tokens': 198, 'prompt_tokens_details': {'cached_tokens': 0}}}, id='run--792346f3-5f4e-4f2a-a26c-f738f2283f74-0', tool_calls=[{'name': 'get_weather', 'args': {'city': 'San Francisco, US'}, 'id': 'call_dacc68277e4446ec8d1538', 'type': 'tool_call'}]),\n",
       "  ToolMessage(content=\"It's always sunny in San Francisco, US!\", name='get_weather', id='eed8ffbf-884b-478b-b324-b4997ee5ffac', tool_call_id='call_dacc68277e4446ec8d1538'),\n",
       "  AIMessage(content=\"It's always sunny in San Francisco, US! Please note that this might be an optimistic default message from the weather service. For the most accurate and up-to-date information, you may want to check a reliable weather forecasting website or app.\", additional_kwargs={}, response_metadata={'model_name': 'qwen-max', 'finish_reason': 'stop', 'request_id': '6975d66e-3080-90f2-a9a3-8b7982e89f63', 'token_usage': {'input_tokens': 215, 'output_tokens': 49, 'total_tokens': 264, 'prompt_tokens_details': {'cached_tokens': 0}}}, id='run--70741ed2-f9e9-4370-b23f-2559d0bb8adf-0')]}"
      ]
     },
     "execution_count": 9,
     "metadata": {},
     "output_type": "execute_result"
    }
   ],
   "source": [
    "from langchain_core.messages import AnyMessage\n",
    "from langchain_core.runnables import RunnableConfig\n",
    "from langgraph.prebuilt.chat_agent_executor import AgentState\n",
    "from langgraph.prebuilt import create_react_agent\n",
    "from langchain.chat_models import ChatTongyi\n",
    "\n",
    "llm = ChatTongyi(\n",
    "    model=\"qwen-max\"\n",
    ")\n",
    "\n",
    "\n",
    "def prompt(state: AgentState, config: RunnableConfig) -> list[AnyMessage]:  \n",
    "    user_name = config[\"configurable\"].get(\"user_name\")\n",
    "    system_msg = f\"You are a helpful assistant. Address the user as {user_name}.\"\n",
    "    return [{\"role\": \"system\", \"content\": system_msg}] + state[\"messages\"]\n",
    "\n",
    "\n",
    "agent = create_react_agent(\n",
    "    model=llm,\n",
    "    tools=[get_weather],\n",
    "    prompt=prompt\n",
    ")\n",
    "\n",
    "agent.invoke(\n",
    "    {\"messages\": [{\"role\": \"user\", \"content\": \"what is the weather in sf\"}]},\n",
    "    config={\"configurable\": {\"user_name\": \"John Smith\"}}\n",
    ")\n",
    "\n"
   ]
  },
  {
   "cell_type": "markdown",
   "metadata": {},
   "source": [
    "# 添加记忆"
   ]
  },
  {
   "cell_type": "code",
   "execution_count": 11,
   "metadata": {},
   "outputs": [],
   "source": [
    "from langgraph.prebuilt import create_react_agent\n",
    "from langgraph.checkpoint.memory import InMemorySaver\n",
    "\n",
    "checkpointer = InMemorySaver()\n",
    "\n",
    "llm = ChatTongyi(\n",
    "    model=\"qwen-max\"\n",
    ")\n",
    "\n",
    "agent = create_react_agent(\n",
    "    model=llm,\n",
    "    tools=[get_weather],\n",
    "    checkpointer=checkpointer  \n",
    ")\n",
    "\n",
    "# Run the agent\n",
    "config = {\"configurable\": {\"thread_id\": \"1\"}}\n",
    "sf_response = agent.invoke(\n",
    "    {\"messages\": [{\"role\": \"user\", \"content\": \"what is the weather in sf\"}]},\n",
    "    config  \n",
    ")\n",
    "ny_response = agent.invoke(\n",
    "    {\"messages\": [{\"role\": \"user\", \"content\": \"what about new york?\"}]},\n",
    "    config\n",
    ")"
   ]
  },
  {
   "cell_type": "markdown",
   "metadata": {},
   "source": [
    "# 结构化的输出\n"
   ]
  },
  {
   "cell_type": "code",
   "execution_count": 16,
   "metadata": {},
   "outputs": [
    {
     "data": {
      "text/plain": [
       "{'messages': [HumanMessage(content='what is the weather in shanghai', additional_kwargs={}, response_metadata={}, id='f6267c08-f913-4e8a-8082-7dbf94b4fa16'),\n",
       "  AIMessage(content='', additional_kwargs={'tool_calls': [{'function': {'name': 'get_weather', 'arguments': '{\"city\": \"shanghai\"}'}, 'index': 0, 'id': 'call_4c8113cc8c294df58f8a2f', 'type': 'function'}]}, response_metadata={'model_name': 'qwen-max', 'finish_reason': 'tool_calls', 'request_id': 'ee5c31b0-344a-9760-a2d1-ac09c39cbf70', 'token_usage': {'input_tokens': 167, 'output_tokens': 18, 'total_tokens': 185, 'prompt_tokens_details': {'cached_tokens': 0}}}, id='run--67793e61-0934-4304-a22d-84f3a856696c-0', tool_calls=[{'name': 'get_weather', 'args': {'city': 'shanghai'}, 'id': 'call_4c8113cc8c294df58f8a2f', 'type': 'tool_call'}]),\n",
       "  ToolMessage(content=\"It's always sunny in shanghai!\", name='get_weather', id='2dd8f9ff-fd06-45aa-a2d7-51f8c7139093', tool_call_id='call_4c8113cc8c294df58f8a2f'),\n",
       "  AIMessage(content='The weather in Shanghai is always sunny! However, please check a reliable source for the most accurate and updated information.', additional_kwargs={}, response_metadata={'model_name': 'qwen-max', 'finish_reason': 'stop', 'request_id': '5ae87851-b6e5-9e32-b18f-469e45098cbf', 'token_usage': {'input_tokens': 200, 'output_tokens': 24, 'total_tokens': 224, 'prompt_tokens_details': {'cached_tokens': 0}}}, id='run--8b376a6f-1752-44b8-b7f0-db710aff316e-0')],\n",
       " 'structured_response': None}"
      ]
     },
     "execution_count": 16,
     "metadata": {},
     "output_type": "execute_result"
    }
   ],
   "source": [
    "from pydantic import BaseModel\n",
    "from langgraph.prebuilt import create_react_agent\n",
    "\n",
    "class WeatherResponse(BaseModel):\n",
    "    conditions: str\n",
    "\n",
    "agent = create_react_agent(\n",
    "    model=llm,\n",
    "    tools=[get_weather],\n",
    "    response_format=WeatherResponse  \n",
    ")\n",
    "\n",
    "response = agent.invoke(\n",
    "    {\"messages\": [{\"role\": \"user\", \"content\": \"what is the weather in shanghai\"}]}\n",
    ")\n",
    "response\n",
    "\n",
    "# response[\"structured_response\"]"
   ]
  },
  {
   "cell_type": "code",
   "execution_count": null,
   "metadata": {},
   "outputs": [],
   "source": []
  }
 ],
 "metadata": {
  "kernelspec": {
   "display_name": "Langchian",
   "language": "python",
   "name": "python3"
  },
  "language_info": {
   "codemirror_mode": {
    "name": "ipython",
    "version": 3
   },
   "file_extension": ".py",
   "mimetype": "text/x-python",
   "name": "python",
   "nbconvert_exporter": "python",
   "pygments_lexer": "ipython3",
   "version": "3.13.3"
  }
 },
 "nbformat": 4,
 "nbformat_minor": 2
}
