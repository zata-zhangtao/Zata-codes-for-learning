{
 "cells": [
  {
   "cell_type": "code",
   "execution_count": null,
   "metadata": {},
   "outputs": [],
   "source": [
    "from langchain.output_parsers import StructuredOutputParser, ResponseSchema\n",
    "\n",
    "response_schemas = [\n",
    "    ResponseSchema(name=\"answer\", description=\"回答内容\"),\n",
    "    ResponseSchema(name=\"confidence\", description=\"置信度，0-1之间的浮点数\")\n",
    "]\n",
    "parser = StructuredOutputParser.from_response_schemas(response_schemas)\n",
    "prompt = f\"请按照以下格式返回数据：\\n{parser.get_format_instructions()}\"\n",
    "\n",
    "prompt\n",
    "\n",
    "\n",
    "\n"
   ]
  },
  {
   "cell_type": "code",
   "execution_count": 7,
   "metadata": {},
   "outputs": [
    {
     "name": "stdout",
     "output_type": "stream",
     "text": [
      "\n",
      "分析句子：我今天感觉非常开心！\n",
      "结果：{'answer': '正面', 'confidence': '0.99'}\n",
      "\n",
      "分析句子：这个世界真是让人失望。\n",
      "结果：{'answer': '负面', 'confidence': '0.95'}\n",
      "\n",
      "分析句子：天气很好，适合出门散步。\n",
      "结果：{'answer': '积极', 'confidence': '0.95'}\n"
     ]
    }
   ],
   "source": [
    "import os\n",
    "from langchain.chat_models import ChatOpenAI\n",
    "from langchain.prompts import PromptTemplate\n",
    "from langchain.output_parsers import StructuredOutputParser, ResponseSchema\n",
    "from pydantic import ValidationError\n",
    "from dotenv import  load_dotenv\n",
    "load_dotenv()\n",
    "import os\n",
    "\n",
    "\n",
    "\n",
    "#  密钥（替换为你的密钥，或通过环境变量获取） 这里我用的阿里云的\n",
    "\n",
    "api_key = os.getenv(\"api_key\")\n",
    "base_url = os.getenv(\"base_url\")\n",
    "model = \"qwq-32b\"\n",
    "\n",
    "\n",
    "# 定义期望的输出结构\n",
    "response_schemas = [\n",
    "    ResponseSchema(name=\"answer\", description=\"回答内容，字符串类型\"),\n",
    "    ResponseSchema(name=\"confidence\", description=\"置信度，0-1之间的浮点数\")\n",
    "]\n",
    "\n",
    "# 创建输出解析器\n",
    "output_parser = StructuredOutputParser.from_response_schemas(response_schemas)\n",
    "\n",
    "# 定义提示模板\n",
    "prompt_template = \"\"\"\n",
    "请分析以下句子的情感，并以指定的 JSON 格式返回结果：\n",
    "{format_instructions}\n",
    "\n",
    "句子：{sentence}\n",
    "\"\"\"\n",
    "\n",
    "prompt = PromptTemplate(\n",
    "    template=prompt_template,\n",
    "    input_variables=[\"sentence\"],\n",
    "    partial_variables={\"format_instructions\": output_parser.get_format_instructions()}\n",
    ")\n",
    "\n",
    "# 初始化语言模型\n",
    "llm = ChatOpenAI(temperature=0.2, max_tokens=200,api_key = api_key , base_url = base_url,model = \"qwq-32b\",streaming = True)\n",
    "\n",
    "# 定义解析和重试逻辑\n",
    "def get_stable_output(sentence, max_attempts=3):\n",
    "    chain = prompt | llm | output_parser\n",
    "    \n",
    "    for attempt in range(max_attempts):\n",
    "        try:\n",
    "            # 调用模型并解析输出\n",
    "            result = chain.invoke({\"sentence\": sentence})\n",
    "            return result\n",
    "        except Exception as e:\n",
    "            print(f\"尝试 {attempt + 1}/{max_attempts} 失败: {e}\")\n",
    "            if attempt == max_attempts - 1:\n",
    "                # 最后一次尝试失败，返回默认值\n",
    "                return {\"answer\": \"无法分析\", \"confidence\": 0.5}\n",
    "    \n",
    "    return {\"answer\": \"未完成分析\", \"confidence\": 0.0}  # 理论上不会到达这里\n",
    "\n",
    "# 测试代码\n",
    "def main():\n",
    "    test_sentences = [\n",
    "        \"我今天感觉非常开心！\",\n",
    "        \"这个世界真是让人失望。\",\n",
    "        \"天气很好，适合出门散步。\"\n",
    "    ]\n",
    "\n",
    "    for sentence in test_sentences:\n",
    "        print(f\"\\n分析句子：{sentence}\")\n",
    "        result = get_stable_output(sentence)\n",
    "        print(f\"结果：{result}\")\n",
    "\n",
    "if __name__ == \"__main__\":\n",
    "    main()"
   ]
  },
  {
   "cell_type": "code",
   "execution_count": 8,
   "metadata": {},
   "outputs": [],
   "source": [
    "from langchain.agents import initialize_agent, AgentType"
   ]
  }
 ],
 "metadata": {
  "kernelspec": {
   "display_name": "Upick",
   "language": "python",
   "name": "python3"
  },
  "language_info": {
   "codemirror_mode": {
    "name": "ipython",
    "version": 3
   },
   "file_extension": ".py",
   "mimetype": "text/x-python",
   "name": "python",
   "nbconvert_exporter": "python",
   "pygments_lexer": "ipython3",
   "version": "3.10.16"
  }
 },
 "nbformat": 4,
 "nbformat_minor": 2
}
