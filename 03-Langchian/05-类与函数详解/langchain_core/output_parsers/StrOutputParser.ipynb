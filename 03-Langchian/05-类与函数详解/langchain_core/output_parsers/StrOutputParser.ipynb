{
 "cells": [
  {
   "cell_type": "markdown",
   "metadata": {},
   "source": [
    "# StrOutputParser类的使用"
   ]
  },
  {
   "cell_type": "code",
   "execution_count": 1,
   "metadata": {},
   "outputs": [
    {
     "name": "stdout",
     "output_type": "stream",
     "text": [
      "根据计算，2025年3月16日是星期日。\n",
      "\n",
      "**步骤解析：**\n",
      "\n",
      "1. **基姆拉尔森公式计算：**\n",
      "   - 日期：2025年3月16日。\n",
      "   - 参数：q=16（日），m=3（月），年份2025 → K=25（年份后两位），J=20（前两位）。\n",
      "   - 公式：  \n",
      "     \\[\n",
      "     h = \\left( q + \\left\\lfloor \\frac{13(m+1)}{5} \\right\\rfloor + K + \\left\\lfloor \\frac{K}{4} \\right\\rfloor + \\left\\lfloor \\frac{J}{4} \\right\\rfloor + 5J \\right) \\mod 7\n",
      "     \\]\n",
      "   - 代入计算：  \n",
      "     \\[\n",
      "     h = (16 + 10 + 25 + 6 + 5 + 100) \\mod 7 = 162 \\mod 7 = 1\n",
      "     \\]\n",
      "   - **结果**：h=1 对应星期日（基姆拉尔森公式中h=0为星期六，h=1为星期日）。\n",
      "\n",
      "2. **总天数验证：**\n",
      "   - 从2024年1月1日（星期一）到2025年3月16日：\n",
      "     - 2024年（闰年）：366天。\n",
      "     - 2025年1月1日至3月16日：31（1月） + 28（2月） + 16（3月） = 75天。\n",
      "     - **总天数**：366 + 75 = 441天。\n",
      "   - **余数计算**：  \n",
      "     \\[\n",
      "     441 \\mod 7 = 0 \\quad \\Rightarrow \\quad \\text{但需注意起始日为第0天}，\n",
      "     \\]\n",
      "     实际天数差为440天：  \n",
      "     \\[\n",
      "     440 \\mod 7 = 6 \\quad \\Rightarrow \\quad \\text{星期一} + 6 \\text{天} = \\text{星期日}。\n",
      "     \\]\n",
      "\n",
      "3. **逐步推导：**\n",
      "   - 2024年1月1日（星期一）：\n",
      "     - 1月31日：星期三（+30天）。\n",
      "     - 2月29日（闰年）：星期四（+29天）。\n",
      "     - 3月1日：星期五（+1天）。\n",
      "     - 3月16日：星期五 + 15天 = 星期日。\n",
      "\n",
      "**结论：**  \n",
      "2025年3月16日是**星期日**。\n",
      "\n",
      "\\boxed{星期日}\n"
     ]
    }
   ],
   "source": [
    "from langchain_core.prompts import PromptTemplate\n",
    "from langchain_core.output_parsers import StrOutputParser\n",
    "from langchain_openai import ChatOpenAI\n",
    "\n",
    "import os\n",
    "from dotenv import load_dotenv\n",
    "load_dotenv()\n",
    "model = os.getenv(\"model\")\n",
    "api_key = os.getenv(\"api_key\")\n",
    "base_url = os.getenv(\"base_url\")\n",
    "print()\n",
    "\n",
    "\n",
    "\n",
    "prompt = PromptTemplate(template=\"今天是星期几？（假设今天是 2025 年 3 月 16 日）\")\n",
    "llm = ChatOpenAI(model=model, api_key=api_key,base_url=base_url,streaming=True)\n",
    "parser = StrOutputParser()\n",
    "\n",
    "chain = prompt | llm | parser\n",
    "response = chain.invoke({})\n",
    "print(response)\n"
   ]
  }
 ],
 "metadata": {
  "kernelspec": {
   "display_name": "Upick",
   "language": "python",
   "name": "python3"
  },
  "language_info": {
   "codemirror_mode": {
    "name": "ipython",
    "version": 3
   },
   "file_extension": ".py",
   "mimetype": "text/x-python",
   "name": "python",
   "nbconvert_exporter": "python",
   "pygments_lexer": "ipython3",
   "version": "3.10.16"
  }
 },
 "nbformat": 4,
 "nbformat_minor": 2
}
