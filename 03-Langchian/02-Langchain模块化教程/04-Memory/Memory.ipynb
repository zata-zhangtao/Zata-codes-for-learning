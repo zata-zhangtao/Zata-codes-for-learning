{
 "cells": [
  {
   "cell_type": "code",
   "execution_count": 1,
   "metadata": {},
   "outputs": [
    {
     "name": "stderr",
     "output_type": "stream",
     "text": [
      "C:\\Users\\zata\\AppData\\Local\\Temp\\ipykernel_30036\\1096582919.py:14: LangChainDeprecationWarning: Please see the migration guide at: https://python.langchain.com/docs/versions/migrating_memory/\n",
      "  memory = ConversationBufferMemory()\n",
      "C:\\Users\\zata\\AppData\\Local\\Temp\\ipykernel_30036\\1096582919.py:17: LangChainDeprecationWarning: The class `ConversationChain` was deprecated in LangChain 0.2.7 and will be removed in 1.0. Use :meth:`~RunnableWithMessageHistory: https://python.langchain.com/v0.2/api_reference/core/runnables/langchain_core.runnables.history.RunnableWithMessageHistory.html` instead.\n",
      "  conversation = ConversationChain(llm=llm, memory=memory)\n",
      "C:\\Users\\zata\\AppData\\Local\\Temp\\ipykernel_30036\\1096582919.py:20: LangChainDeprecationWarning: The method `Chain.run` was deprecated in langchain 0.1.0 and will be removed in 1.0. Use :meth:`~invoke` instead.\n",
      "  print(conversation.run(\"我叫张三，今年30岁。\"))\n"
     ]
    },
    {
     "name": "stdout",
     "output_type": "stream",
     "text": [
      "你好，张三！30岁确实是一个充满可能性的年纪，事业可能渐入佳境，生活也有了更多自主的空间。最近有什么新鲜事或者感兴趣的话题想聊聊吗？或者需要我帮你解答些什么？ 😊\n",
      "当然记得呢，张三！你之前提到自己30岁，这个年纪通常是事业和生活的黄金时期，很多可能性在眼前展开。你最近有什么特别想尝试或讨论的事情吗？或者需要我帮你分析一些人生选择？😄\n"
     ]
    }
   ],
   "source": [
    "from langchain.memory import ConversationBufferMemory\n",
    "from langchain.chains import ConversationChain\n",
    "from langchain_openai import ChatOpenAI\n",
    "import os\n",
    "from dotenv import load_dotenv\n",
    "load_dotenv()\n",
    "# 初始化模型\n",
    "\n",
    "api_key = os.getenv(\"api_key\")\n",
    "\n",
    "llm = ChatOpenAI(model=\"qwq-32b\", api_key=api_key, base_url=\"https://dashscope.aliyuncs.com/compatible-mode/v1\", streaming=True)\n",
    "\n",
    "# 创建内存\n",
    "memory = ConversationBufferMemory()\n",
    "\n",
    "# 创建对话链\n",
    "conversation = ConversationChain(llm=llm, memory=memory)\n",
    "\n",
    "# 第一轮对话\n",
    "print(conversation.run(\"我叫张三，今年30岁。\"))\n",
    "# 输出：好的，张三，很高兴认识你！你今天过得怎么样？\n",
    "\n",
    "# 第二轮对话\n",
    "print(conversation.run(\"你还记得我多大吗？\"))\n",
    "# 输出：当然记得，你今年30岁！\n"
   ]
  }
 ],
 "metadata": {
  "kernelspec": {
   "display_name": "langchain",
   "language": "python",
   "name": "python3"
  },
  "language_info": {
   "codemirror_mode": {
    "name": "ipython",
    "version": 3
   },
   "file_extension": ".py",
   "mimetype": "text/x-python",
   "name": "python",
   "nbconvert_exporter": "python",
   "pygments_lexer": "ipython3",
   "version": "3.11.11"
  }
 },
 "nbformat": 4,
 "nbformat_minor": 2
}
