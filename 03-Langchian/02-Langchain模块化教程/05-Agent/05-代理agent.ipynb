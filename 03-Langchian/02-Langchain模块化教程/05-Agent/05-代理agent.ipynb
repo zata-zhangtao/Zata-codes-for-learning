{
 "cells": [
  {
   "cell_type": "code",
   "execution_count": 3,
   "metadata": {},
   "outputs": [
    {
     "name": "stdout",
     "output_type": "stream",
     "text": [
      "LangChain 是一个用于构建基于大型语言模型（LLM）应用程序的开源框架。它提供了一套工具和模式，如链（Chains）、代理（Agents）和记忆（Memory），帮助开发者将语言模型与外部数据、业务逻辑等结合，简化复杂应用的开发流程。LangChain 支持与多种 LLM 服务（如 OpenAI、Anthropic）的集成，并通过链式结构组织任务处理步骤，例如数据检索、推理和生成。它主要用 Python 编写，广泛应用于聊天机器人、文档分析、自动化决策等领域。\n"
     ]
    }
   ],
   "source": [
    "from langchain_openai import ChatOpenAI\n",
    "from langchain.agents import initialize_agent, Tool\n",
    "from langchain.utilities import WikipediaAPIWrapper\n",
    "\n",
    "# 初始化模型\n",
    "\n",
    "\n",
    "import os\n",
    "from dotenv import load_dotenv\n",
    "load_dotenv()\n",
    "# 初始化模型\n",
    "\n",
    "\n",
    "api_key = os.getenv(\"api_key\")\n",
    "base_url = os.getenv(\"base_url\")\n",
    "model = os.getenv(\"model\")\n",
    "llm = ChatOpenAI(model=model, api_key=api_key,base_url=base_url,streaming=True)\n",
    "\n",
    "# 定义工具\n",
    "wikipedia = WikipediaAPIWrapper()\n",
    "tools = [\n",
    "    Tool(\n",
    "        name=\"Wikipedia\",\n",
    "        func=wikipedia.run,\n",
    "        description=\"用于查询维基百科的信息\",\n",
    "        handle_parsing_errors=True  # 当解析失败时，代理会将错误反馈给模型，要求其重新生成符合预期的输出格式。\n",
    "    )\n",
    "]\n",
    "\n",
    "# 创建代理\n",
    "agent = initialize_agent(tools, llm, agent_type=\"zero-shot-react-description\")\n",
    "\n",
    "# 运行代理\n",
    "response = agent.run(\"告诉我关于 LangChain 的信息\")\n",
    "print(response)\n"
   ]
  }
 ],
 "metadata": {
  "kernelspec": {
   "display_name": "langchain",
   "language": "python",
   "name": "python3"
  },
  "language_info": {
   "codemirror_mode": {
    "name": "ipython",
    "version": 3
   },
   "file_extension": ".py",
   "mimetype": "text/x-python",
   "name": "python",
   "nbconvert_exporter": "python",
   "pygments_lexer": "ipython3",
   "version": "3.11.11"
  }
 },
 "nbformat": 4,
 "nbformat_minor": 2
}
