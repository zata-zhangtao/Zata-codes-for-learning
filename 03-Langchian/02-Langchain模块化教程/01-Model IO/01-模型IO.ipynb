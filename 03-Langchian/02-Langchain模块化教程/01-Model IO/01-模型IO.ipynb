{
 "cells": [
  {
   "cell_type": "code",
   "execution_count": 2,
   "metadata": {},
   "outputs": [
    {
     "name": "stdout",
     "output_type": "stream",
     "text": [
      "2025年的AI趋势可能包括以下方向：  \n",
      "1. **生成式AI深化应用**：多模态模型（文本、图像、视频、音频融合）更成熟，推动内容创作、虚拟场景等领域的革新。  \n",
      "2. **AI伦理与监管强化**：各国加强AI伦理规范和法规（如欧盟AI法案），注重数据隐私、算法透明及公平性。  \n",
      "3. **边缘计算与轻量化AI**：AI模型进一步小型化，结合边缘设备（如手机、IoT）实现实时处理，降低云端依赖。  \n",
      "4. **行业垂直化落地**：医疗（精准诊断）、制造（自动化）、能源（优化管理）等领域出现更定制化的AI解决方案。  \n",
      "5. **自动化与平民化工具**：低代码/无代码AI平台普及，降低技术门槛，推动中小企业和非技术人员应用AI。  \n",
      "6. **AI与量子计算融合探索**：初步尝试结合量子计算提升复杂问题的解决能力（如药物研发、密码学）。  \n",
      "\n",
      "这些趋势将推动AI更广泛融入社会，同时伴随技术可控性和伦理挑战的持续讨论。\n"
     ]
    }
   ],
   "source": [
    "from langchain_openai import ChatOpenAI\n",
    "from langchain.prompts import PromptTemplate\n",
    "import os\n",
    "from dotenv import load_dotenv\n",
    "load_dotenv()\n",
    "\n",
    "# 初始化模型\n",
    "llm = ChatOpenAI(model=\"gpt-4\", api_key=\"your-openai-api-key\")\n",
    "# 或者可以用其他的API，比如阿里云的\n",
    "api_key = os.getenv(\"api_key\")\n",
    "\n",
    "base_url = \"https://dashscope.aliyuncs.com/compatible-mode/v1\"\n",
    "llm = ChatOpenAI(api_key=api_key, base_url=base_url,model=\"qwq-32b\",  streaming=True,)\n",
    "\n",
    "# 定义提示模板\n",
    "prompt = PromptTemplate.from_template(\"请用简洁的语言回答：{question}\")\n",
    "\n",
    "# 调用模型\n",
    "question = \"2025年的 AI 趋势是什么？\"\n",
    "response = llm.invoke(prompt.format(question=question))\n",
    "print(response.content)\n"
   ]
  }
 ],
 "metadata": {
  "kernelspec": {
   "display_name": "langchain",
   "language": "python",
   "name": "python3"
  },
  "language_info": {
   "codemirror_mode": {
    "name": "ipython",
    "version": 3
   },
   "file_extension": ".py",
   "mimetype": "text/x-python",
   "name": "python",
   "nbconvert_exporter": "python",
   "pygments_lexer": "ipython3",
   "version": "3.11.11"
  }
 },
 "nbformat": 4,
 "nbformat_minor": 2
}
