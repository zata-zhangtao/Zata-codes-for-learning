{
 "cells": [
  {
   "cell_type": "code",
   "execution_count": null,
   "metadata": {},
   "outputs": [
    {
     "ename": "",
     "evalue": "",
     "output_type": "error",
     "traceback": [
      "\u001b[1;31mRunning cells with 'zata_code (Python 3.11.11)' requires the ipykernel package.\n",
      "\u001b[1;31mRun the following command to install 'ipykernel' into the Python environment. \n",
      "\u001b[1;31mCommand: 'conda install -n zata_code ipykernel --update-deps --force-reinstall'"
     ]
    }
   ],
   "source": [
    "from langgraph.graph import StateGraph, END\n",
    "from typing import TypedDict\n",
    "\n",
    "# 定义状态\n",
    "class AgentState(TypedDict):\n",
    "    question: str\n",
    "    answer: str\n",
    "    processed: bool\n",
    "\n",
    "# 节点1：处理问题\n",
    "def process_question_node(state: AgentState) -> AgentState:\n",
    "    state[\"answer\"] = f\"正在处理你的问题：{state['question']}  state[\\\"processed\\\"] = False 直接结束 \"\n",
    "    # state[\"processed\"] = True\n",
    "    return state\n",
    "\n",
    "# 节点2：生成最终回答\n",
    "def generate_answer_node(state: AgentState) -> AgentState:\n",
    "    if \"天气\" in state[\"question\"]:\n",
    "        state[\"answer\"] = \"今天天气晴朗，温度25摄氏度。\"\n",
    "    else:\n",
    "        state[\"answer\"] = \"这是一个好问题，但我需要更多信息来回答。\"\n",
    "    return state\n",
    "\n",
    "# 条件函数：决定下一步\n",
    "def decide_next(state: AgentState):\n",
    "    if state[\"processed\"]:\n",
    "        return \"generate_answer\"\n",
    "    return END\n",
    "\n",
    "# 创建状态图\n",
    "workflow = StateGraph(AgentState)\n",
    "\n",
    "# 添加节点\n",
    "workflow.add_node(\"process_question\", process_question_node)\n",
    "workflow.add_node(\"generate_answer\", generate_answer_node)\n",
    "\n",
    "# 设置入口点\n",
    "workflow.set_entry_point(\"process_question\")\n",
    "\n",
    "# 添加边\n",
    "workflow.add_conditional_edges(\n",
    "    \"process_question\",\n",
    "    decide_next,\n",
    "    {\n",
    "        \"generate_answer\": \"generate_answer\",\n",
    "        END: END\n",
    "    }\n",
    ")\n",
    "workflow.add_edge(\"generate_answer\", END)\n",
    "\n",
    "# 编译并运行\n",
    "graph = workflow.compile()\n",
    "result = graph.invoke({\"question\": \"今天天气如何？\", \"processed\": False})\n",
    "print(result[\"answer\"])"
   ]
  }
 ],
 "metadata": {
  "kernelspec": {
   "display_name": "zata_code",
   "language": "python",
   "name": "python3"
  },
  "language_info": {
   "codemirror_mode": {
    "name": "ipython",
    "version": 3
   },
   "file_extension": ".py",
   "mimetype": "text/x-python",
   "name": "python",
   "nbconvert_exporter": "python",
   "pygments_lexer": "ipython3",
   "version": "3.11.11"
  }
 },
 "nbformat": 4,
 "nbformat_minor": 2
}
