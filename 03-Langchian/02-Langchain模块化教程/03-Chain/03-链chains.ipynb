{
 "cells": [
  {
   "cell_type": "code",
   "execution_count": null,
   "metadata": {},
   "outputs": [
    {
     "name": "stderr",
     "output_type": "stream",
     "text": [
      "C:\\Users\\zata\\AppData\\Local\\Temp\\ipykernel_31256\\1866493235.py:22: LangChainDeprecationWarning: The class `LLMChain` was deprecated in LangChain 0.1.17 and will be removed in 1.0. Use :meth:`~RunnableSequence, e.g., `prompt | llm`` instead.\n",
      "  chain = LLMChain(llm=llm, prompt=prompt)\n",
      "C:\\Users\\zata\\AppData\\Local\\Temp\\ipykernel_31256\\1866493235.py:25: LangChainDeprecationWarning: The method `Chain.run` was deprecated in langchain 0.1.0 and will be removed in 1.0. Use :meth:`~invoke` instead.\n",
      "  response = chain.run(topic=\"量子计算\")\n"
     ]
    },
    {
     "name": "stdout",
     "output_type": "stream",
     "text": [
      "量子计算是一种基于量子力学原理的新型计算模式，与传统计算机使用二进制比特（0或1）不同，它利用量子比特（qubit）的叠加态和纠缠态进行信息处理。量子比特可以同时处于多种状态的叠加，使得量子计算机在处理特定复杂问题时，能够实现远超经典计算机的并行计算能力。\n",
      "\n",
      "量子计算的核心优势在于解决传统计算机难以高效处理的问题，例如大整数分解（威胁现有加密体系）、大规模优化（物流、金融等领域）、量子系统模拟（新材料研发）及人工智能算法加速等。然而，当前量子计算仍面临技术挑战，如量子比特的稳定性（易受环境干扰）、错误率控制及可扩展性问题。尽管如此，量子计算作为颠覆性技术，已被视为未来科技发展的关键方向之一，其突破可能在密码学、药物发现、能源科学等领域引发革命性变革。\n"
     ]
    }
   ],
   "source": [
    "from langchain_openai import ChatOpenAI\n",
    "from langchain.prompts import PromptTemplate\n",
    "from langchain.chains import LLMChain\n",
    "import os\n",
    "from dotenv import load_dotenv\n",
    "load_dotenv()\n",
    "# 初始化模型\n",
    "\n",
    "\n",
    "api_key = os.getenv(\"api_key\")\n",
    "base_url = os.getenv(\"base_url\")\n",
    "\n",
    "\n",
    "llm = ChatOpenAI(model=\"qwq-32b\", api_key=api_key,base_url=base_url, streaming=True)\n",
    "\n",
    "# 定义提示\n",
    "prompt = PromptTemplate(\n",
    "    input_variables=[\"topic\"],\n",
    "    template=\"请写一段关于{topic}的简短介绍。\"\n",
    ")\n",
    "\n",
    "# 创建链\n",
    "chain = LLMChain(llm=llm, prompt=prompt)\n",
    "\n",
    "# 运行链\n",
    "response = chain.run(topic=\"量子计算\")\n",
    "print(response)\n"
   ]
  },
  {
   "cell_type": "code",
   "execution_count": 2,
   "metadata": {},
   "outputs": [
    {
     "name": "stderr",
     "output_type": "stream",
     "text": [
      "C:\\Users\\zata\\AppData\\Local\\Temp\\ipykernel_31256\\609742029.py:39: LangChainDeprecationWarning: The method `Chain.__call__` was deprecated in langchain 0.1.0 and will be removed in 1.0. Use :meth:`~invoke` instead.\n",
      "  result = overall_chain({\"text\": \"人工智能在医疗领域的应用\"})\n"
     ]
    },
    {
     "name": "stdout",
     "output_type": "stream",
     "text": [
      "从文本“人工智能在医疗领域的应用”中提取的关键词如下：\n",
      "\n",
      "1. **人工智能**  \n",
      "2. **医疗领域**  \n",
      "3. **医疗应用**  \n",
      "4. **医疗影像分析**  \n",
      "5. **药物研发**  \n",
      "6. **个性化治疗**  \n",
      "7. **疾病预测**  \n",
      "8. **远程医疗**  \n",
      "9. **医疗机器人**  \n",
      "10. **电子健康记录（EHR）**  \n",
      "11. **病理分析**  \n",
      "12. **手术辅助**  \n",
      "13. **健康管理**  \n",
      "14. **医疗数据分析**  \n",
      "15. **智能诊疗系统**  \n",
      "16. **医疗决策支持**  \n",
      "17. **医疗资源优化**  \n",
      "18. **基因组学**  \n",
      "19. **患者监测**  \n",
      "20. **医疗数据管理**  \n",
      "\n",
      "### 关键词说明：\n",
      "- **核心概念**：人工智能、医疗领域、医疗应用（覆盖技术与场景）。  \n",
      "- **具体应用方向**：医疗影像分析（如CT/MRI诊断）、药物研发（加速新药开发）、个性化治疗（基于患者数据定制方案）、疾病预测（通过数据分析预警）。  \n",
      "- **技术支撑**：医疗机器人（手术或护理）、电子健康记录（数据整合）、病理分析（辅助诊断）、基因组学（精准医疗）。  \n",
      "- **系统与服务**：智能诊疗系统（辅助医生决策）、远程医疗（扩大服务范围）、健康管理（慢性病跟踪）、医疗资源优化（分配与效率提升）。  \n",
      "- **数据驱动**：医疗数据分析、医疗数据管理（处理海量医疗数据）、患者监测（实时健康追踪）。  \n",
      "\n",
      "这些关键词覆盖了人工智能在医疗领域的核心技术和应用场景，适用于研究、报告或技术开发等需求。\n",
      "人工智能在医疗领域的应用正通过技术创新重塑现代医疗服务模式。其核心概念涵盖医疗应用的多个维度：一方面，通过医疗影像分析技术（如CT/MRI智能诊断）和病理分析系统提升疾病诊断的精准度，结合基因组学研究推动个性化治疗方案的制定；另一方面，借助医疗机器人实现手术辅助与护理服务的智能化，依托电子健康记录（EHR）系统整合患者数据，为医疗决策支持提供可靠依据。具体应用方向上，人工智能加速了药物研发进程，通过医疗数据分析预测疾病风险，并构建智能诊疗系统优化医疗资源分配。在系统与服务层面，远程医疗扩大了医疗服务的可及性，健康管理平台与患者监测系统实现慢性病的动态跟踪，而医疗资源优化策略则显著提升了医疗机构的运营效率。数据驱动的医疗数据管理技术，不仅支撑起从疾病预测到术后康复的全流程管理，更通过整合多源数据推动精准医疗的发展，最终实现医疗质量与效率的双重提升，为构建智慧医疗生态奠定坚实基础。\n"
     ]
    }
   ],
   "source": [
    "from langchain_openai import ChatOpenAI\n",
    "from langchain_core.prompts import PromptTemplate\n",
    "from langchain.chains import LLMChain, SequentialChain\n",
    "import os\n",
    "from dotenv import load_dotenv\n",
    "load_dotenv()\n",
    "# 初始化模型\n",
    "\n",
    "\n",
    "api_key = os.getenv(\"api_key\")\n",
    "base_url = os.getenv(\"base_url\")\n",
    "model = os.getenv(\"model\")\n",
    "\n",
    "# 初始化语言模型\n",
    "llm = ChatOpenAI(model=model, api_key=api_key,base_url=base_url,streaming=True)\n",
    "\n",
    "# 第一步：提取关键词\n",
    "prompt1 = PromptTemplate(\n",
    "    input_variables=[\"text\"],\n",
    "    template=\"从以下文本中提取关键词：{text}\"\n",
    ")\n",
    "chain1 = LLMChain(llm=llm, prompt=prompt1, output_key=\"keywords\")\n",
    "\n",
    "# 第二步：基于关键词生成回答\n",
    "prompt2 = PromptTemplate(\n",
    "    input_variables=[\"keywords\"],\n",
    "    template=\"根据以下关键词生成一段话：{keywords}\"\n",
    ")\n",
    "chain2 = LLMChain(llm=llm, prompt=prompt2, output_key=\"response\")\n",
    "\n",
    "# 创建顺序链\n",
    "overall_chain = SequentialChain(\n",
    "    chains=[chain1, chain2],\n",
    "    input_variables=[\"text\"],\n",
    "    output_variables=[\"keywords\", \"response\"]\n",
    ")\n",
    "\n",
    "# 运行链\n",
    "result = overall_chain({\"text\": \"人工智能在医疗领域的应用\"})\n",
    "print(result[\"keywords\"])  # 可能是：“人工智能, 医疗, 应用”\n",
    "print(result[\"response\"])  # 可能是：“人工智能在医疗领域的应用包括疾病诊断、药物开发等。”"
   ]
  }
 ],
 "metadata": {
  "kernelspec": {
   "display_name": "langchain",
   "language": "python",
   "name": "python3"
  },
  "language_info": {
   "codemirror_mode": {
    "name": "ipython",
    "version": 3
   },
   "file_extension": ".py",
   "mimetype": "text/x-python",
   "name": "python",
   "nbconvert_exporter": "python",
   "pygments_lexer": "ipython3",
   "version": "3.11.11"
  }
 },
 "nbformat": 4,
 "nbformat_minor": 2
}
