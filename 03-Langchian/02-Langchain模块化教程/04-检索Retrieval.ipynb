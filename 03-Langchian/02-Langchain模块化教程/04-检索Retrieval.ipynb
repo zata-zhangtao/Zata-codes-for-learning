{
 "cells": [
  {
   "cell_type": "code",
   "execution_count": 6,
   "metadata": {},
   "outputs": [
    {
     "name": "stdout",
     "output_type": "stream",
     "text": [
      "根据 LangChain 示例中的模型预测，2025年的技术趋势可能包括以下方向：\n",
      "\n",
      "---\n",
      "\n",
      "### 1. **人工智能与生成式AI**  \n",
      "生成式AI（如大模型）在内容创作、医疗诊断、客户服务等领域广泛应用，推动自动化与个性化服务。\n",
      "\n",
      "### 2. **量子计算**  \n",
      "实用化进展加速，可能在密码学、材料科学和药物研发中解决复杂问题。\n",
      "\n",
      "### 3. **可持续技术**  \n",
      "绿色能源（如高效太阳能、储能技术）、碳捕捉及电动汽车技术进一步成熟，助力碳中和目标。\n",
      "\n",
      "### 4. **扩展现实（XR）与元宇宙**  \n",
      "AR/VR在教育、远程协作和虚拟经济中的渗透率提升，推动沉浸式体验场景。\n",
      "\n",
      "### 5. **生物科技**  \n",
      "基因编辑（如CRISPR）、合成生物学和个性化医疗将革新疾病治疗与生物制造。\n",
      "\n",
      "### 6. **物联网与边缘计算**  \n",
      "5G/6G网络与边缘计算结合，优化工业自动化、智慧城市和实时数据分析。\n",
      "\n",
      "### 7. **网络安全**  \n",
      "零信任架构与AI驱动的安全系统成为应对网络威胁的核心，保护关键基础设施。\n",
      "\n",
      "---\n",
      "\n",
      "这些趋势可能重塑产业格局、生活方式及全球竞争力。如需更具体的分析，可结合 LangChain 的 RAG 功能，通过外部数据增强回答的准确性。\n"
     ]
    }
   ],
   "source": [
    "from langchain_openai import OpenAIEmbeddings\n",
    "from langchain.vectorstores import FAISS\n",
    "from langchain.chains import RetrievalQA\n",
    "from langchain.document_loaders import TextLoader\n",
    "from langchain_community.embeddings import DashScopeEmbeddings\n",
    "from langchain_openai import ChatOpenAI\n",
    "\n",
    "\n",
    "import os\n",
    "from dotenv import load_dotenv\n",
    "load_dotenv()\n",
    "# 初始化模型\n",
    "\n",
    "\n",
    "\n",
    "\n",
    "api_key = os.getenv(\"api_key\")  # 阿里云的api key\n",
    "base_url = os.getenv(\"base_url\") # 阿里云的聊天模型url  \"https://dashscope.aliyuncs.com/compatible-mode/v1\"\n",
    "\n",
    "\n",
    "# 初始化语言模型\n",
    "\n",
    "# 加载文档\n",
    "loader = TextLoader(\"example_doc.txt\")  # 假设文件内容为技术趋势\n",
    "documents = loader.load()\n",
    "\n",
    "# 创建嵌入和向量存储\n",
    "\n",
    "embeddings = DashScopeEmbeddings(\n",
    "    model=\"text-embedding-v3\",\n",
    "    dashscope_api_key=api_key,\n",
    "    # other params...\n",
    ")\n",
    "\n",
    "vector_store = FAISS.from_documents(documents, embeddings)\n",
    "\n",
    "# 创建检索链\n",
    "qa_chain = RetrievalQA.from_chain_type(\n",
    "    llm = ChatOpenAI(model=\"qwq-32b\", api_key=api_key,base_url=base_url,streaming=True),\n",
    "    chain_type=\"stuff\",\n",
    "    retriever=vector_store.as_retriever()\n",
    ")\n",
    "\n",
    "# 查询\n",
    "response = qa_chain.run(\"2025年的技术趋势是什么？\")\n",
    "print(response)\n"
   ]
  }
 ],
 "metadata": {
  "kernelspec": {
   "display_name": "zata_code",
   "language": "python",
   "name": "python3"
  },
  "language_info": {
   "codemirror_mode": {
    "name": "ipython",
    "version": 3
   },
   "file_extension": ".py",
   "mimetype": "text/x-python",
   "name": "python",
   "nbconvert_exporter": "python",
   "pygments_lexer": "ipython3",
   "version": "3.11.11"
  }
 },
 "nbformat": 4,
 "nbformat_minor": 2
}
